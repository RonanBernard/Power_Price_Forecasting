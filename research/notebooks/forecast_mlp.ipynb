{
 "cells": [
  {
   "cell_type": "code",
   "execution_count": 1,
   "id": "ddf4d8b9",
   "metadata": {},
   "outputs": [
    {
     "name": "stdout",
     "output_type": "stream",
     "text": [
      "The autoreload extension is already loaded. To reload it, use:\n",
      "  %reload_ext autoreload\n"
     ]
    }
   ],
   "source": [
    "import pandas as pd\n",
    "import numpy as np\n",
    "import matplotlib.pyplot as plt\n",
    "import plotly\n",
    "import seaborn as sns\n",
    "import os\n",
    "import sqlite3\n",
    "\n",
    "# Preprocessing\n",
    "#from tensorflow import keras\n",
    "from sklearn.model_selection import train_test_split\n",
    "from sklearn.impute import SimpleImputer\n",
    "from sklearn.compose import make_column_transformer, make_column_selector, ColumnTransformer\n",
    "from sklearn.ensemble import AdaBoostRegressor, VotingRegressor, GradientBoostingRegressor, StackingRegressor, RandomForestRegressor\n",
    "from sklearn.metrics import mean_squared_error\n",
    "from sklearn.model_selection import TimeSeriesSplit, cross_val_score, cross_validate\n",
    "from sklearn.pipeline import make_pipeline, Pipeline\n",
    "from sklearn.preprocessing import RobustScaler, StandardScaler\n",
    "\n",
    "# Model\n",
    "from sklearn.dummy import DummyRegressor\n",
    "from xgboost import XGBRegressor\n",
    "import optuna\n",
    "import shap\n",
    "import joblib\n",
    "\n",
    "from scripts.config import DATA_PATH, MODELS_PATH\n",
    "\n",
    "%load_ext autoreload\n",
    "%autoreload 2\n",
    "\n",
    "%load_ext tensorboard\n",
    "\n",
    "from tempfile import mkdtemp\n",
    "# Create a temp folder\n",
    "cachedir = mkdtemp()"
   ]
  },
  {
   "cell_type": "markdown",
   "id": "0dee08e0",
   "metadata": {},
   "source": [
    "# 1. Import processed data"
   ]
  },
  {
   "cell_type": "code",
   "execution_count": 2,
   "id": "790edb10",
   "metadata": {},
   "outputs": [],
   "source": [
    "X_train_transformed = pd.read_csv(os.path.join(DATA_PATH, 'V1', 'X_train_transformed.csv'))\n",
    "X_val_transformed = pd.read_csv(os.path.join(DATA_PATH, 'V1', 'X_val_transformed.csv'))\n",
    "X_test_transformed = pd.read_csv(os.path.join(DATA_PATH, 'V1', 'X_test_transformed.csv'))\n",
    "y_train = pd.read_csv(os.path.join(DATA_PATH, 'V1', 'y_train.csv'))\n",
    "y_val = pd.read_csv(os.path.join(DATA_PATH, 'V1', 'y_val.csv'))\n",
    "y_test = pd.read_csv(os.path.join(DATA_PATH, 'V1', 'y_test.csv'))\n",
    "\n",
    "X_train = pd.read_csv(os.path.join(DATA_PATH, 'V1', 'X_train.csv'))\n",
    "X_val = pd.read_csv(os.path.join(DATA_PATH, 'V1', 'X_val.csv'))\n",
    "X_test = pd.read_csv(os.path.join(DATA_PATH, 'V1', 'X_test.csv'))"
   ]
  },
  {
   "cell_type": "code",
   "execution_count": 3,
   "id": "7be0bee1",
   "metadata": {},
   "outputs": [
    {
     "name": "stdout",
     "output_type": "stream",
     "text": [
      "<class 'pandas.core.frame.DataFrame'>\n",
      "RangeIndex: 34374 entries, 0 to 34373\n",
      "Data columns (total 85 columns):\n",
      " #   Column            Non-Null Count  Dtype  \n",
      "---  ------            --------------  -----  \n",
      " 0   datetime          34374 non-null  object \n",
      " 1   FR_Solar          34374 non-null  float64\n",
      " 2   FR_Wind Offshore  34374 non-null  float64\n",
      " 3   FR_Wind Onshore   34374 non-null  float64\n",
      " 4   FR_forecast_load  34374 non-null  float64\n",
      " 5   EUA_EUR           34374 non-null  float64\n",
      " 6   TTF_EUR           34374 non-null  float64\n",
      " 7   ARA_EUR           34374 non-null  float64\n",
      " 8   Day_sin           34374 non-null  float64\n",
      " 9   Day_cos           34374 non-null  float64\n",
      " 10  Year_sin          34374 non-null  float64\n",
      " 11  Year_cos          34374 non-null  float64\n",
      " 12  price_lag_24h     34374 non-null  float64\n",
      " 13  price_lag_25h     34374 non-null  float64\n",
      " 14  price_lag_26h     34374 non-null  float64\n",
      " 15  price_lag_27h     34374 non-null  float64\n",
      " 16  price_lag_28h     34374 non-null  float64\n",
      " 17  price_lag_29h     34374 non-null  float64\n",
      " 18  price_lag_30h     34374 non-null  float64\n",
      " 19  price_lag_31h     34374 non-null  float64\n",
      " 20  price_lag_32h     34374 non-null  float64\n",
      " 21  price_lag_33h     34374 non-null  float64\n",
      " 22  price_lag_34h     34374 non-null  float64\n",
      " 23  price_lag_35h     34374 non-null  float64\n",
      " 24  price_lag_36h     34374 non-null  float64\n",
      " 25  price_lag_37h     34374 non-null  float64\n",
      " 26  price_lag_38h     34374 non-null  float64\n",
      " 27  price_lag_39h     34374 non-null  float64\n",
      " 28  price_lag_40h     34374 non-null  float64\n",
      " 29  price_lag_41h     34374 non-null  float64\n",
      " 30  price_lag_42h     34374 non-null  float64\n",
      " 31  price_lag_43h     34374 non-null  float64\n",
      " 32  price_lag_44h     34374 non-null  float64\n",
      " 33  price_lag_45h     34374 non-null  float64\n",
      " 34  price_lag_46h     34374 non-null  float64\n",
      " 35  price_lag_47h     34374 non-null  float64\n",
      " 36  price_lag_48h     34374 non-null  float64\n",
      " 37  price_lag_49h     34374 non-null  float64\n",
      " 38  price_lag_50h     34374 non-null  float64\n",
      " 39  price_lag_51h     34374 non-null  float64\n",
      " 40  price_lag_52h     34374 non-null  float64\n",
      " 41  price_lag_53h     34374 non-null  float64\n",
      " 42  price_lag_54h     34374 non-null  float64\n",
      " 43  price_lag_55h     34374 non-null  float64\n",
      " 44  price_lag_56h     34374 non-null  float64\n",
      " 45  price_lag_57h     34374 non-null  float64\n",
      " 46  price_lag_58h     34374 non-null  float64\n",
      " 47  price_lag_59h     34374 non-null  float64\n",
      " 48  price_lag_60h     34374 non-null  float64\n",
      " 49  price_lag_61h     34374 non-null  float64\n",
      " 50  price_lag_62h     34374 non-null  float64\n",
      " 51  price_lag_63h     34374 non-null  float64\n",
      " 52  price_lag_64h     34374 non-null  float64\n",
      " 53  price_lag_65h     34374 non-null  float64\n",
      " 54  price_lag_66h     34374 non-null  float64\n",
      " 55  price_lag_67h     34374 non-null  float64\n",
      " 56  price_lag_68h     34374 non-null  float64\n",
      " 57  price_lag_69h     34374 non-null  float64\n",
      " 58  price_lag_70h     34374 non-null  float64\n",
      " 59  price_lag_71h     34374 non-null  float64\n",
      " 60  price_lag_72h     34374 non-null  float64\n",
      " 61  price_lag_73h     34374 non-null  float64\n",
      " 62  price_lag_74h     34374 non-null  float64\n",
      " 63  price_lag_75h     34374 non-null  float64\n",
      " 64  price_lag_76h     34374 non-null  float64\n",
      " 65  price_lag_77h     34374 non-null  float64\n",
      " 66  price_lag_78h     34374 non-null  float64\n",
      " 67  price_lag_79h     34374 non-null  float64\n",
      " 68  price_lag_80h     34374 non-null  float64\n",
      " 69  price_lag_81h     34374 non-null  float64\n",
      " 70  price_lag_82h     34374 non-null  float64\n",
      " 71  price_lag_83h     34374 non-null  float64\n",
      " 72  price_lag_84h     34374 non-null  float64\n",
      " 73  price_lag_85h     34374 non-null  float64\n",
      " 74  price_lag_86h     34374 non-null  float64\n",
      " 75  price_lag_87h     34374 non-null  float64\n",
      " 76  price_lag_88h     34374 non-null  float64\n",
      " 77  price_lag_89h     34374 non-null  float64\n",
      " 78  price_lag_90h     34374 non-null  float64\n",
      " 79  price_lag_91h     34374 non-null  float64\n",
      " 80  price_lag_92h     34374 non-null  float64\n",
      " 81  price_lag_93h     34374 non-null  float64\n",
      " 82  price_lag_94h     34374 non-null  float64\n",
      " 83  price_lag_95h     34374 non-null  float64\n",
      " 84  price_lag_96h     34374 non-null  float64\n",
      "dtypes: float64(84), object(1)\n",
      "memory usage: 22.3+ MB\n"
     ]
    }
   ],
   "source": [
    "X_train.info()"
   ]
  },
  {
   "cell_type": "markdown",
   "id": "84982991",
   "metadata": {},
   "source": [
    "# 2. Forecast with MLP"
   ]
  },
  {
   "cell_type": "code",
   "execution_count": 4,
   "id": "8ce4e685",
   "metadata": {},
   "outputs": [
    {
     "name": "stderr",
     "output_type": "stream",
     "text": [
      "2025-08-16 13:47:49.341614: I tensorflow/core/util/port.cc:153] oneDNN custom operations are on. You may see slightly different numerical results due to floating-point round-off errors from different computation orders. To turn them off, set the environment variable `TF_ENABLE_ONEDNN_OPTS=0`.\n",
      "2025-08-16 13:47:49.356214: I external/local_xla/xla/tsl/cuda/cudart_stub.cc:32] Could not find cuda drivers on your machine, GPU will not be used.\n",
      "2025-08-16 13:47:49.466323: I external/local_xla/xla/tsl/cuda/cudart_stub.cc:32] Could not find cuda drivers on your machine, GPU will not be used.\n",
      "2025-08-16 13:47:49.557715: E external/local_xla/xla/stream_executor/cuda/cuda_fft.cc:467] Unable to register cuFFT factory: Attempting to register factory for plugin cuFFT when one has already been registered\n",
      "WARNING: All log messages before absl::InitializeLog() is called are written to STDERR\n",
      "E0000 00:00:1755344869.636622    5709 cuda_dnn.cc:8579] Unable to register cuDNN factory: Attempting to register factory for plugin cuDNN when one has already been registered\n",
      "E0000 00:00:1755344869.659961    5709 cuda_blas.cc:1407] Unable to register cuBLAS factory: Attempting to register factory for plugin cuBLAS when one has already been registered\n",
      "W0000 00:00:1755344869.853559    5709 computation_placer.cc:177] computation placer already registered. Please check linkage and avoid linking the same target more than once.\n",
      "W0000 00:00:1755344869.853619    5709 computation_placer.cc:177] computation placer already registered. Please check linkage and avoid linking the same target more than once.\n",
      "W0000 00:00:1755344869.853620    5709 computation_placer.cc:177] computation placer already registered. Please check linkage and avoid linking the same target more than once.\n",
      "W0000 00:00:1755344869.853621    5709 computation_placer.cc:177] computation placer already registered. Please check linkage and avoid linking the same target more than once.\n",
      "2025-08-16 13:47:49.875647: I tensorflow/core/platform/cpu_feature_guard.cc:210] This TensorFlow binary is optimized to use available CPU instructions in performance-critical operations.\n",
      "To enable the following instructions: AVX2 AVX_VNNI FMA, in other operations, rebuild TensorFlow with the appropriate compiler flags.\n",
      "2025-08-16 13:47:52.741124: E external/local_xla/xla/stream_executor/cuda/cuda_platform.cc:51] failed call to cuInit: INTERNAL: CUDA error: Failed call to cuInit: UNKNOWN ERROR (303)\n"
     ]
    },
    {
     "data": {
      "text/plain": [
       "<scripts.mlp_model.MLPModel at 0x7fa9752b70b0>"
      ]
     },
     "execution_count": 4,
     "metadata": {},
     "output_type": "execute_result"
    }
   ],
   "source": [
    "from scripts.mlp_model import MLPModel\n",
    "\n",
    "mlp = MLPModel(\n",
    "    neurons=[64, 32, 16, 8],  # Two very small layers\n",
    "    n_features=X_train_transformed.shape[1],\n",
    "    outputShape=1,\n",
    "    dropout=0.3,\n",
    "    batch_normalization=True,\n",
    "    learning_rate=0.0005,\n",
    "    verbose=True,\n",
    "    epochs_early_stopping=15,\n",
    "    loss='mse',\n",
    "    metrics=['mae'],\n",
    "    activation='relu',\n",
    "    regularization='l2',\n",
    "    lambda_reg=0.05\n",
    ")\n",
    "\n",
    "mlp"
   ]
  },
  {
   "cell_type": "code",
   "execution_count": 5,
   "id": "90f3da01",
   "metadata": {},
   "outputs": [
    {
     "name": "stdout",
     "output_type": "stream",
     "text": [
      "Epoch 1/1000\n",
      "\u001b[1m1075/1075\u001b[0m \u001b[32m━━━━━━━━━━━━━━━━━━━━\u001b[0m\u001b[37m\u001b[0m \u001b[1m6s\u001b[0m 3ms/step - loss: 1888.2104 - mae: 39.4967 - val_loss: 2634.1340 - val_mae: 45.7856\n",
      "Epoch 2/1000\n",
      "\u001b[1m1075/1075\u001b[0m \u001b[32m━━━━━━━━━━━━━━━━━━━━\u001b[0m\u001b[37m\u001b[0m \u001b[1m3s\u001b[0m 3ms/step - loss: 1225.7230 - mae: 32.1591 - val_loss: 1046.6652 - val_mae: 29.3356\n",
      "Epoch 3/1000\n",
      "\u001b[1m1075/1075\u001b[0m \u001b[32m━━━━━━━━━━━━━━━━━━━━\u001b[0m\u001b[37m\u001b[0m \u001b[1m3s\u001b[0m 3ms/step - loss: 659.2183 - mae: 21.0674 - val_loss: 424.4881 - val_mae: 17.1356\n",
      "Epoch 4/1000\n",
      "\u001b[1m1075/1075\u001b[0m \u001b[32m━━━━━━━━━━━━━━━━━━━━\u001b[0m\u001b[37m\u001b[0m \u001b[1m3s\u001b[0m 3ms/step - loss: 283.8967 - mae: 12.3947 - val_loss: 332.5979 - val_mae: 13.1456\n",
      "Epoch 5/1000\n",
      "\u001b[1m1075/1075\u001b[0m \u001b[32m━━━━━━━━━━━━━━━━━━━━\u001b[0m\u001b[37m\u001b[0m \u001b[1m3s\u001b[0m 3ms/step - loss: 234.9226 - mae: 10.1052 - val_loss: 257.7296 - val_mae: 10.9158\n",
      "Epoch 6/1000\n",
      "\u001b[1m1075/1075\u001b[0m \u001b[32m━━━━━━━━━━━━━━━━━━━━\u001b[0m\u001b[37m\u001b[0m \u001b[1m3s\u001b[0m 3ms/step - loss: 201.9157 - mae: 9.8303 - val_loss: 282.7329 - val_mae: 11.6801\n",
      "Epoch 7/1000\n",
      "\u001b[1m1075/1075\u001b[0m \u001b[32m━━━━━━━━━━━━━━━━━━━━\u001b[0m\u001b[37m\u001b[0m \u001b[1m4s\u001b[0m 4ms/step - loss: 263.3541 - mae: 9.7588 - val_loss: 284.8075 - val_mae: 11.5122\n",
      "Epoch 8/1000\n",
      "\u001b[1m1075/1075\u001b[0m \u001b[32m━━━━━━━━━━━━━━━━━━━━\u001b[0m\u001b[37m\u001b[0m \u001b[1m4s\u001b[0m 3ms/step - loss: 291.5755 - mae: 9.7283 - val_loss: 305.0492 - val_mae: 11.8733\n",
      "Epoch 9/1000\n",
      "\u001b[1m1075/1075\u001b[0m \u001b[32m━━━━━━━━━━━━━━━━━━━━\u001b[0m\u001b[37m\u001b[0m \u001b[1m5s\u001b[0m 4ms/step - loss: 313.3467 - mae: 9.7719 - val_loss: 308.7191 - val_mae: 12.1284\n",
      "Epoch 10/1000\n",
      "\u001b[1m1075/1075\u001b[0m \u001b[32m━━━━━━━━━━━━━━━━━━━━\u001b[0m\u001b[37m\u001b[0m \u001b[1m5s\u001b[0m 5ms/step - loss: 200.4077 - mae: 9.3839 - val_loss: 246.3443 - val_mae: 10.4637\n",
      "Epoch 11/1000\n",
      "\u001b[1m1075/1075\u001b[0m \u001b[32m━━━━━━━━━━━━━━━━━━━━\u001b[0m\u001b[37m\u001b[0m \u001b[1m4s\u001b[0m 4ms/step - loss: 236.5623 - mae: 9.4814 - val_loss: 270.3035 - val_mae: 10.9398\n",
      "Epoch 12/1000\n",
      "\u001b[1m1075/1075\u001b[0m \u001b[32m━━━━━━━━━━━━━━━━━━━━\u001b[0m\u001b[37m\u001b[0m \u001b[1m4s\u001b[0m 4ms/step - loss: 226.1987 - mae: 9.4037 - val_loss: 267.2463 - val_mae: 10.9341\n",
      "Epoch 13/1000\n",
      "\u001b[1m1075/1075\u001b[0m \u001b[32m━━━━━━━━━━━━━━━━━━━━\u001b[0m\u001b[37m\u001b[0m \u001b[1m5s\u001b[0m 5ms/step - loss: 189.4147 - mae: 9.2548 - val_loss: 264.1713 - val_mae: 10.8871\n",
      "Epoch 14/1000\n",
      "\u001b[1m1075/1075\u001b[0m \u001b[32m━━━━━━━━━━━━━━━━━━━━\u001b[0m\u001b[37m\u001b[0m \u001b[1m4s\u001b[0m 4ms/step - loss: 218.7061 - mae: 9.3410 - val_loss: 270.4598 - val_mae: 10.9154\n",
      "Epoch 15/1000\n",
      "\u001b[1m1075/1075\u001b[0m \u001b[32m━━━━━━━━━━━━━━━━━━━━\u001b[0m\u001b[37m\u001b[0m \u001b[1m4s\u001b[0m 3ms/step - loss: 199.5488 - mae: 9.1890 - val_loss: 318.3751 - val_mae: 11.9469\n",
      "Epoch 16/1000\n",
      "\u001b[1m1075/1075\u001b[0m \u001b[32m━━━━━━━━━━━━━━━━━━━━\u001b[0m\u001b[37m\u001b[0m \u001b[1m4s\u001b[0m 4ms/step - loss: 236.0489 - mae: 9.1828 - val_loss: 248.1662 - val_mae: 10.4230\n",
      "Epoch 17/1000\n",
      "\u001b[1m1075/1075\u001b[0m \u001b[32m━━━━━━━━━━━━━━━━━━━━\u001b[0m\u001b[37m\u001b[0m \u001b[1m4s\u001b[0m 4ms/step - loss: 229.9097 - mae: 9.1674 - val_loss: 251.4824 - val_mae: 10.5761\n",
      "Epoch 18/1000\n",
      "\u001b[1m1075/1075\u001b[0m \u001b[32m━━━━━━━━━━━━━━━━━━━━\u001b[0m\u001b[37m\u001b[0m \u001b[1m5s\u001b[0m 5ms/step - loss: 209.7350 - mae: 9.2260 - val_loss: 303.5701 - val_mae: 11.8666\n",
      "Epoch 19/1000\n",
      "\u001b[1m1075/1075\u001b[0m \u001b[32m━━━━━━━━━━━━━━━━━━━━\u001b[0m\u001b[37m\u001b[0m \u001b[1m5s\u001b[0m 4ms/step - loss: 216.0504 - mae: 9.0723 - val_loss: 258.1251 - val_mae: 10.5406\n",
      "Epoch 20/1000\n",
      "\u001b[1m1075/1075\u001b[0m \u001b[32m━━━━━━━━━━━━━━━━━━━━\u001b[0m\u001b[37m\u001b[0m \u001b[1m4s\u001b[0m 3ms/step - loss: 208.7685 - mae: 9.0998 - val_loss: 374.2493 - val_mae: 13.1747\n",
      "Epoch 21/1000\n",
      "\u001b[1m1075/1075\u001b[0m \u001b[32m━━━━━━━━━━━━━━━━━━━━\u001b[0m\u001b[37m\u001b[0m \u001b[1m5s\u001b[0m 4ms/step - loss: 164.6884 - mae: 8.8164 - val_loss: 281.4471 - val_mae: 11.1491\n",
      "Epoch 22/1000\n",
      "\u001b[1m1075/1075\u001b[0m \u001b[32m━━━━━━━━━━━━━━━━━━━━\u001b[0m\u001b[37m\u001b[0m \u001b[1m4s\u001b[0m 4ms/step - loss: 203.8272 - mae: 8.8963 - val_loss: 270.0077 - val_mae: 10.8336\n",
      "Epoch 23/1000\n",
      "\u001b[1m1075/1075\u001b[0m \u001b[32m━━━━━━━━━━━━━━━━━━━━\u001b[0m\u001b[37m\u001b[0m \u001b[1m4s\u001b[0m 4ms/step - loss: 246.1754 - mae: 8.9691 - val_loss: 279.5794 - val_mae: 11.1821\n",
      "Epoch 24/1000\n",
      "\u001b[1m1075/1075\u001b[0m \u001b[32m━━━━━━━━━━━━━━━━━━━━\u001b[0m\u001b[37m\u001b[0m \u001b[1m4s\u001b[0m 4ms/step - loss: 183.6044 - mae: 8.9141 - val_loss: 290.1879 - val_mae: 11.3757\n",
      "Epoch 25/1000\n",
      "\u001b[1m1075/1075\u001b[0m \u001b[32m━━━━━━━━━━━━━━━━━━━━\u001b[0m\u001b[37m\u001b[0m \u001b[1m4s\u001b[0m 4ms/step - loss: 187.4605 - mae: 8.7474 - val_loss: 258.5247 - val_mae: 10.4520\n",
      "Epoch 25: early stopping\n",
      "Restoring model weights from the end of the best epoch: 10.\n"
     ]
    },
    {
     "data": {
      "image/png": "[encoded data removed]",
      "text/plain": [
       "<Figure size 1000x400 with 2 Axes>"
      ]
     },
     "metadata": {},
     "output_type": "display_data"
    },
    {
     "name": "stdout",
     "output_type": "stream",
     "text": [
      "\u001b[1m310/310\u001b[0m \u001b[32m━━━━━━━━━━━━━━━━━━━━\u001b[0m\u001b[37m\u001b[0m \u001b[1m0s\u001b[0m 1ms/step - loss: 104.4525 - mae: 6.3396\n",
      "\u001b[1m1075/1075\u001b[0m \u001b[32m━━━━━━━━━━━━━━━━━━━━\u001b[0m\u001b[37m\u001b[0m \u001b[1m1s\u001b[0m 1ms/step - loss: 105.8448 - mae: 5.1672\n",
      "\n",
      "Final Training Metrics:\n",
      "RMSE: 10.5284\n",
      "['mae']: [5.301108360290527]\n",
      "\n",
      "Final Validation Metrics:\n",
      "RMSE: 15.6954\n",
      "['mae']: [10.463689804077148]\n"
     ]
    },
    {
     "data": {
      "text/plain": [
       "<keras.src.callbacks.history.History at 0x7fa974de6060>"
      ]
     },
     "execution_count": 5,
     "metadata": {},
     "output_type": "execute_result"
    }
   ],
   "source": [
    "mlp.fit(X_train_transformed, y_train, X_val_transformed, y_val)\n"
   ]
  },
  {
   "cell_type": "code",
   "execution_count": null,
   "id": "3716e871",
   "metadata": {},
   "outputs": [
    {
     "data": {
      "text/plain": [
       "Launching TensorBoard..."
      ]
     },
     "metadata": {},
     "output_type": "display_data"
    }
   ],
   "source": [
    "from scripts.config import LOGS_PATH\n",
    "%tensorboard --logdir {LOGS_PATH}/MLP/fit"
   ]
  },
  {
   "cell_type": "code",
   "execution_count": null,
   "id": "2addcf78",
   "metadata": {},
   "outputs": [],
   "source": []
  }
 ],
 "metadata": {
  "kernelspec": {
   "display_name": "power_env",
   "language": "python",
   "name": "python3"
  },
  "language_info": {
   "codemirror_mode": {
    "name": "ipython",
    "version": 3
   },
   "file_extension": ".py",
   "mimetype": "text/x-python",
   "name": "python",
   "nbconvert_exporter": "python",
   "pygments_lexer": "ipython3",
   "version": "3.12.9"
  }
 },
 "nbformat": 4,
 "nbformat_minor": 5
}
