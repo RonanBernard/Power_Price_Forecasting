{
 "cells": [
  {
   "cell_type": "code",
   "execution_count": 4,
   "id": "540e7aeb",
   "metadata": {},
   "outputs": [
    {
     "name": "stdout",
     "output_type": "stream",
     "text": [
      "The autoreload extension is already loaded. To reload it, use:\n",
      "  %reload_ext autoreload\n"
     ]
    }
   ],
   "source": [
    "import os\n",
    "from datetime import datetime, timedelta\n",
    "from typing import Dict, List, Tuple\n",
    "import pandas as pd\n",
    "from dotenv import load_dotenv\n",
    "from entsoe import EntsoePandasClient\n",
    "import numpy as np\n",
    "\n",
    "from api.services.entsoe_service import download_entsoe_data\n",
    "from scripts.config import ENTSOE_API_KEY\n",
    "\n",
    "%load_ext autoreload\n",
    "%autoreload 2"
   ]
  },
  {
   "cell_type": "code",
   "execution_count": null,
   "id": "97bc5339",
   "metadata": {},
   "outputs": [
    {
     "name": "stderr",
     "output_type": "stream",
     "text": [
      "Downloading ENTSOE data: 0chunk [00:00, ?chunk/s]\n"
     ]
    }
   ],
   "source": [
    "download_entsoe_data(ENTSOE_API_KEY, \"2025-09-20\")"
   ]
  },
  {
   "cell_type": "code",
   "execution_count": 2,
   "id": "c8ba7119",
   "metadata": {},
   "outputs": [
    {
     "data": {
      "text/plain": [
       "2025-08-19 00:00:00+02:00    93.04\n",
       "2025-08-19 01:00:00+02:00    76.50\n",
       "2025-08-19 02:00:00+02:00    71.81\n",
       "2025-08-19 03:00:00+02:00    66.46\n",
       "2025-08-19 04:00:00+02:00    65.51\n",
       "2025-08-19 05:00:00+02:00    75.06\n",
       "2025-08-19 06:00:00+02:00    85.15\n",
       "2025-08-19 07:00:00+02:00    95.02\n",
       "2025-08-19 08:00:00+02:00    98.05\n",
       "2025-08-19 09:00:00+02:00    88.57\n",
       "2025-08-19 10:00:00+02:00    69.64\n",
       "2025-08-19 11:00:00+02:00    43.23\n",
       "2025-08-19 12:00:00+02:00    30.00\n",
       "2025-08-19 13:00:00+02:00    29.14\n",
       "2025-08-19 14:00:00+02:00    30.91\n",
       "2025-08-19 15:00:00+02:00    40.54\n",
       "2025-08-19 16:00:00+02:00    58.18\n",
       "2025-08-19 17:00:00+02:00    63.33\n",
       "2025-08-19 18:00:00+02:00    63.00\n",
       "2025-08-19 19:00:00+02:00    88.97\n",
       "2025-08-19 20:00:00+02:00    97.74\n",
       "2025-08-19 21:00:00+02:00    98.04\n",
       "2025-08-19 22:00:00+02:00    98.00\n",
       "2025-08-19 23:00:00+02:00    83.76\n",
       "2025-08-20 00:00:00+02:00    82.90\n",
       "Freq: 60min, dtype: float64"
      ]
     },
     "execution_count": 2,
     "metadata": {},
     "output_type": "execute_result"
    }
   ],
   "source": [
    "from api.services.entsoe_service import download_prices\n",
    "from scripts.config import ENTSOE_API_KEY, ENTSOE_COUNTRY_CODES\n",
    "\n",
    "api_key = ENTSOE_API_KEY\n",
    "\n",
    "# Initialize the ENTSO-E client\n",
    "client = EntsoePandasClient(api_key=api_key)\n",
    "\n",
    "area_code_target = ENTSOE_COUNTRY_CODES['France']\n",
    "\n",
    "target_date=pd.Timestamp(\"2025-08-19\", tz=\"Europe/Paris\")\n",
    "\n",
    "# Calculate time ranges\n",
    "past_start = target_date - timedelta(days=7)  # 7 days of history\n",
    "past_end = target_date - timedelta(hours=1)  # Stop at 23:00 the day before\n",
    "future_start = target_date  # Start at 00:00 of target date\n",
    "future_end = target_date + timedelta(days=1)  # 24 hours ahead\n",
    "\n",
    "data_target = download_prices(client, area_code_target, future_start, future_end)\n",
    "\n",
    "data_target"
   ]
  },
  {
   "cell_type": "code",
   "execution_count": 8,
   "id": "c2655a5a",
   "metadata": {},
   "outputs": [
    {
     "data": {
      "text/plain": [
       "2025-08-19 00:00:00+02:00    40525.0\n",
       "2025-08-19 01:00:00+02:00    38162.5\n",
       "2025-08-19 02:00:00+02:00    36962.5\n",
       "2025-08-19 03:00:00+02:00    35237.5\n",
       "2025-08-19 04:00:00+02:00    34625.0\n",
       "2025-08-19 05:00:00+02:00    35587.5\n",
       "2025-08-19 06:00:00+02:00    37625.0\n",
       "2025-08-19 07:00:00+02:00    39450.0\n",
       "2025-08-19 08:00:00+02:00    42175.0\n",
       "2025-08-19 09:00:00+02:00    44837.5\n",
       "2025-08-19 10:00:00+02:00    46450.0\n",
       "2025-08-19 11:00:00+02:00    47987.5\n",
       "2025-08-19 12:00:00+02:00    49387.5\n",
       "2025-08-19 13:00:00+02:00    49550.0\n",
       "2025-08-19 14:00:00+02:00    48550.0\n",
       "2025-08-19 15:00:00+02:00    47687.5\n",
       "2025-08-19 16:00:00+02:00    46825.0\n",
       "2025-08-19 17:00:00+02:00    46475.0\n",
       "2025-08-19 18:00:00+02:00    47212.5\n",
       "2025-08-19 19:00:00+02:00    47625.0\n",
       "2025-08-19 20:00:00+02:00    45800.0\n",
       "2025-08-19 21:00:00+02:00    44912.5\n",
       "2025-08-19 22:00:00+02:00    44575.0\n",
       "2025-08-19 23:00:00+02:00    44225.0\n",
       "Freq: h, Name: Forecasted Load, dtype: float64"
      ]
     },
     "execution_count": 8,
     "metadata": {},
     "output_type": "execute_result"
    }
   ],
   "source": [
    "from api.services.entsoe_service import download_load\n",
    "\n",
    "future_load = download_load(client, area_code_target, future_start, future_end)\n",
    "\n",
    "future_load = future_load.iloc[:, 0]\n",
    "future_load = future_load.resample('1h').mean()\n",
    "future_load"
   ]
  },
  {
   "cell_type": "code",
   "execution_count": 9,
   "id": "1d1650a1",
   "metadata": {},
   "outputs": [
    {
     "data": {
      "text/plain": [
       "(24,)"
      ]
     },
     "execution_count": 9,
     "metadata": {},
     "output_type": "execute_result"
    }
   ],
   "source": [
    "future_load.shape"
   ]
  },
  {
   "cell_type": "code",
   "execution_count": 4,
   "id": "90199c32",
   "metadata": {},
   "outputs": [
    {
     "data": {
      "text/plain": [
       "(Timestamp('2025-08-19 00:00:00+0200', tz='Europe/Paris'),\n",
       " Timestamp('2025-08-20 00:00:00+0200', tz='Europe/Paris'))"
      ]
     },
     "execution_count": 4,
     "metadata": {},
     "output_type": "execute_result"
    }
   ],
   "source": [
    "future_start, future_end"
   ]
  },
  {
   "cell_type": "code",
   "execution_count": 6,
   "id": "61f9a2a0",
   "metadata": {},
   "outputs": [
    {
     "data": {
      "text/plain": [
       "2025-08-19 00:00:00+02:00    93.04\n",
       "2025-08-19 01:00:00+02:00    76.50\n",
       "2025-08-19 02:00:00+02:00    71.81\n",
       "2025-08-19 03:00:00+02:00    66.46\n",
       "2025-08-19 04:00:00+02:00    65.51\n",
       "2025-08-19 05:00:00+02:00    75.06\n",
       "2025-08-19 06:00:00+02:00    85.15\n",
       "2025-08-19 07:00:00+02:00    95.02\n",
       "2025-08-19 08:00:00+02:00    98.05\n",
       "2025-08-19 09:00:00+02:00    88.57\n",
       "2025-08-19 10:00:00+02:00    69.64\n",
       "2025-08-19 11:00:00+02:00    43.23\n",
       "2025-08-19 12:00:00+02:00    30.00\n",
       "2025-08-19 13:00:00+02:00    29.14\n",
       "2025-08-19 14:00:00+02:00    30.91\n",
       "2025-08-19 15:00:00+02:00    40.54\n",
       "2025-08-19 16:00:00+02:00    58.18\n",
       "2025-08-19 17:00:00+02:00    63.33\n",
       "2025-08-19 18:00:00+02:00    63.00\n",
       "2025-08-19 19:00:00+02:00    88.97\n",
       "2025-08-19 20:00:00+02:00    97.74\n",
       "2025-08-19 21:00:00+02:00    98.04\n",
       "2025-08-19 22:00:00+02:00    98.00\n",
       "2025-08-19 23:00:00+02:00    83.76\n",
       "2025-08-20 00:00:00+02:00    82.90\n",
       "Freq: h, dtype: float64"
      ]
     },
     "execution_count": 6,
     "metadata": {},
     "output_type": "execute_result"
    }
   ],
   "source": [
    "data_target = data_target.resample('1h').mean()\n",
    "data_target"
   ]
  },
  {
   "cell_type": "code",
   "execution_count": 4,
   "id": "b176b456",
   "metadata": {},
   "outputs": [
    {
     "name": "stdout",
     "output_type": "stream",
     "text": [
      "<class 'pandas.core.frame.DataFrame'>\n",
      "DatetimeIndex: 168 entries, 2025-08-12 00:00:00+02:00 to 2025-08-18 23:00:00+02:00\n",
      "Freq: h\n",
      "Data columns (total 18 columns):\n",
      " #   Column      Non-Null Count  Dtype  \n",
      "---  ------      --------------  -----  \n",
      " 0   FR_price    168 non-null    float64\n",
      " 1   ES_price    168 non-null    float64\n",
      " 2   IT_price    168 non-null    float64\n",
      " 3   CH_price    168 non-null    float64\n",
      " 4   BE_price    168 non-null    float64\n",
      " 5   DE_price    168 non-null    float64\n",
      " 6   FR_ES_flow  168 non-null    float64\n",
      " 7   ES_FR_flow  168 non-null    float64\n",
      " 8   FR_IT_flow  168 non-null    float64\n",
      " 9   IT_FR_flow  168 non-null    float64\n",
      " 10  FR_CH_flow  168 non-null    float64\n",
      " 11  CH_FR_flow  168 non-null    float64\n",
      " 12  FR_BE_flow  168 non-null    float64\n",
      " 13  BE_FR_flow  168 non-null    float64\n",
      " 14  FR_DE_flow  168 non-null    float64\n",
      " 15  DE_FR_flow  168 non-null    float64\n",
      " 16  FR_GB_flow  168 non-null    float64\n",
      " 17  GB_FR_flow  168 non-null    float64\n",
      "dtypes: float64(18)\n",
      "memory usage: 24.9 KB\n"
     ]
    },
    {
     "name": "stderr",
     "output_type": "stream",
     "text": [
      "<string>:66: FutureWarning: DataFrame.fillna with 'method' is deprecated and will raise in a future version. Use obj.ffill() or obj.bfill() instead.\n",
      "<string>:73: FutureWarning: DataFrame.fillna with 'method' is deprecated and will raise in a future version. Use obj.ffill() or obj.bfill() instead.\n",
      "<string>:80: FutureWarning: Series.fillna with 'method' is deprecated and will raise in a future version. Use obj.ffill() or obj.bfill() instead.\n"
     ]
    }
   ],
   "source": [
    "from api.services.entsoe_service import download_entsoe_data\n",
    "\n",
    "df_past, df_future, df_target = download_entsoe_data(\n",
    "    api_key=os.getenv('ENTSOE_API_KEY'),\n",
    "    target_date=pd.Timestamp(\"2025-08-19\", tz=\"Europe/Paris\")\n",
    ")\n",
    "\n",
    "df_past.info()"
   ]
  }
 ],
 "metadata": {
  "kernelspec": {
   "display_name": "power_env",
   "language": "python",
   "name": "python3"
  },
  "language_info": {
   "codemirror_mode": {
    "name": "ipython",
    "version": 3
   },
   "file_extension": ".py",
   "mimetype": "text/x-python",
   "name": "python",
   "nbconvert_exporter": "python",
   "pygments_lexer": "ipython3",
   "version": "3.12.9"
  }
 },
 "nbformat": 4,
 "nbformat_minor": 5
}
