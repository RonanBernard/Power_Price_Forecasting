{
 "cells": [
  {
   "cell_type": "code",
   "execution_count": 1,
   "id": "9b86752c",
   "metadata": {},
   "outputs": [
    {
     "name": "stdout",
     "output_type": "stream",
     "text": [
      "                   timestamp  country   price     unit\n",
      "0  2019-06-08 00:00:00+02:00  Belgium -200.00  EUR/MWh\n",
      "1  2019-06-08 01:00:00+02:00  Belgium -200.00  EUR/MWh\n",
      "2  2024-07-06 15:00:00+02:00  Belgium -140.00  EUR/MWh\n",
      "3  2024-05-01 14:00:00+02:00  Belgium -123.18  EUR/MWh\n",
      "4  2023-07-02 15:00:00+02:00  Belgium -120.00  EUR/MWh\n",
      "5  2020-04-13 14:00:00+02:00  Belgium -115.31  EUR/MWh\n",
      "6  2024-07-06 16:00:00+02:00  Belgium -109.19  EUR/MWh\n",
      "7  2024-05-01 13:00:00+02:00  Belgium -106.27  EUR/MWh\n",
      "8  2022-04-24 13:00:00+02:00  Belgium -100.00  EUR/MWh\n",
      "9  2023-07-02 14:00:00+02:00  Belgium -100.00  EUR/MWh\n"
     ]
    },
    {
     "name": "stderr",
     "output_type": "stream",
     "text": [
      "/home/ronan/.pyenv/versions/3.12.9/envs/power_prod_env/lib/python3.12/site-packages/google/cloud/bigquery/table.py:1994: UserWarning: BigQuery Storage module not found, fetch data with the REST endpoint instead.\n",
      "  warnings.warn(\n"
     ]
    }
   ],
   "source": [
    "import os\n",
    "from dotenv import load_dotenv\n",
    "from google.cloud import bigquery\n",
    "\n",
    "# Load .env\n",
    "load_dotenv()\n",
    "\n",
    "PROJECT = os.getenv(\"GCP_PROJECT\")\n",
    "DATASET = os.getenv(\"BQ_DATASET\")\n",
    "TABLE   = os.getenv(\"BQ_TABLE_PRICES\")\n",
    "REGION  = os.getenv(\"BQ_REGION\")\n",
    "\n",
    "client = bigquery.Client(project=PROJECT, location=REGION)\n",
    "\n",
    "# Example query: select last 10 rows\n",
    "sql = f\"\"\"\n",
    "SELECT *\n",
    "FROM `{PROJECT}.{DATASET}.{TABLE}`\n",
    "LIMIT 10\n",
    "\"\"\"\n",
    "\n",
    "df = client.query(sql).result().to_dataframe()\n",
    "print(df)\n"
   ]
  },
  {
   "cell_type": "code",
   "execution_count": 3,
   "id": "fb41bc36",
   "metadata": {},
   "outputs": [
    {
     "name": "stdout",
     "output_type": "stream",
     "text": [
      "Dataset location: europe-west1\n"
     ]
    }
   ],
   "source": [
    "from google.cloud import bigquery\n",
    "\n",
    "client = bigquery.Client(project=\"power-market-470418\")\n",
    "dataset = client.get_dataset(\"power-market-470418.entsoe_data\")\n",
    "\n",
    "print(\"Dataset location:\", dataset.location)"
   ]
  },
  {
   "cell_type": "code",
   "execution_count": null,
   "id": "68857481",
   "metadata": {},
   "outputs": [],
   "source": []
  }
 ],
 "metadata": {
  "kernelspec": {
   "display_name": "power_prod_env",
   "language": "python",
   "name": "python3"
  },
  "language_info": {
   "codemirror_mode": {
    "name": "ipython",
    "version": 3
   },
   "file_extension": ".py",
   "mimetype": "text/x-python",
   "name": "python",
   "nbconvert_exporter": "python",
   "pygments_lexer": "ipython3",
   "version": "3.12.9"
  }
 },
 "nbformat": 4,
 "nbformat_minor": 5
}
